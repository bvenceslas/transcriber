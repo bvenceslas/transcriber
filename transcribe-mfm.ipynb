{
 "cells": [
  {
   "cell_type": "code",
   "execution_count": 1,
   "id": "7930f700",
   "metadata": {},
   "outputs": [
    {
     "name": "stdout",
     "output_type": "stream",
     "text": [
      "/Users/brain/Documents/_GITHUB/_BRAIN/transcriber\n"
     ]
    }
   ],
   "source": [
    "import whisper\n",
    "\n",
    "\n",
    "audio = \"voice.mp3\"\n",
    "\n",
    "model = whisper.load_model(\"base\")\n",
    "\n",
    "# audio = whisper.load_audio(\"suprise.mp4\")\n",
    "result = model.transcribe(audio, fp16=False, language='English')\n",
    "\n",
    "print(result['text'])\n"
   ]
  }
 ],
 "metadata": {
  "kernelspec": {
   "display_name": "Python 3 (ipykernel)",
   "language": "python",
   "name": "python3"
  },
  "language_info": {
   "codemirror_mode": {
    "name": "ipython",
    "version": 3
   },
   "file_extension": ".py",
   "mimetype": "text/x-python",
   "name": "python",
   "nbconvert_exporter": "python",
   "pygments_lexer": "ipython3",
   "version": "3.9.13"
  },
  "vscode": {
   "interpreter": {
    "hash": "b0fa6594d8f4cbf19f97940f81e996739fb7646882a419484c72d19e05852a7e"
   }
  }
 },
 "nbformat": 4,
 "nbformat_minor": 5
}
