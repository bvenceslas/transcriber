{
 "cells": [
  {
   "cell_type": "code",
   "execution_count": 1,
   "id": "7930f700",
   "metadata": {},
   "outputs": [
    {
     "name": "stdout",
     "output_type": "stream",
     "text": [
      "/Users/brain/Documents/_GITHUB/_BRAIN/transcriber\n"
     ]
    }
   ],
   "source": [
    "import whisper\n",
    "\n",
    "\n",
    "audio = \"voice.mp3\"\n",
    "\n",
    "model = whisper.load_model(\"base\")\n",
    "\n",
    "# audio = whisper.load_audio(\"suprise.mp4\")\n",
    "result = model.transcribe(audio, fp16=False, language='English')\n",
    "\n",
    "print(result['text'])\n"
   ]
  },
  {
   "cell_type": "code",
   "execution_count": 1,
   "id": "0ad5d65e",
   "metadata": {},
   "outputs": [
    {
     "name": "stdout",
     "output_type": "stream",
     "text": [
      "Collecting pytube\n",
      "  Downloading pytube-12.1.2-py3-none-any.whl (57 kB)\n",
      "\u001b[2K     \u001b[90m━━━━━━━━━━━━━━━━━━━━━━━━━━━━━━━━━━━━━━━\u001b[0m \u001b[32m57.0/57.0 kB\u001b[0m \u001b[31m243.7 kB/s\u001b[0m eta \u001b[36m0:00:00\u001b[0ma \u001b[36m0:00:01\u001b[0m\n",
      "\u001b[?25hInstalling collected packages: pytube\n",
      "Successfully installed pytube-12.1.2\n"
     ]
    }
   ],
   "source": [
    "!pip install pytube"
   ]
  },
  {
   "cell_type": "code",
   "execution_count": null,
   "id": "c2e00a43",
   "metadata": {},
   "outputs": [],
   "source": [
    "#Importing Pytube library\n",
    "import pytube\n",
    "\n",
    "video = 'https://www.youtube.com/watch?v=gT5eRCqT9F0'\n",
    "data = pytube.YouTube(video)\n",
    "# Convert to audio file\n",
    "audio = data.streams.get_audio_only()\n",
    "audio.download()"
   ]
  }
 ],
 "metadata": {
  "kernelspec": {
   "display_name": "Python 3 (ipykernel)",
   "language": "python",
   "name": "python3"
  },
  "language_info": {
   "codemirror_mode": {
    "name": "ipython",
    "version": 3
   },
   "file_extension": ".py",
   "mimetype": "text/x-python",
   "name": "python",
   "nbconvert_exporter": "python",
   "pygments_lexer": "ipython3",
   "version": "3.9.13"
  },
  "vscode": {
   "interpreter": {
    "hash": "b0fa6594d8f4cbf19f97940f81e996739fb7646882a419484c72d19e05852a7e"
   }
  }
 },
 "nbformat": 4,
 "nbformat_minor": 5
}
